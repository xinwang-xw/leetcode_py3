{
 "cells": [
  {
   "cell_type": "markdown",
   "metadata": {},
   "source": [
    "## 1. Two Sum\n",
    "\n",
    "Given an array of integers, return indices of the two numbers such that they add up to a specific target.\n",
    "You may assume that each input would have exactly one solution, and you may not use the same element twice.\n",
    "\n",
    "```\n",
    "Given nums = [2, 7, 11, 15], target = 9,\n",
    "\n",
    "Because nums[0] + nums[1] = 2 + 7 = 9,\n",
    "return [0, 1].\n",
    "```"
   ]
  },
  {
   "cell_type": "code",
   "execution_count": 1,
   "metadata": {},
   "outputs": [
    {
     "name": "stdout",
     "output_type": "stream",
     "text": [
      "[0, 1]\n"
     ]
    }
   ],
   "source": [
    "def twoSum(nums, target, is_sorted=False):\n",
    "    if is_sorted:\n",
    "        i, j = 0, len(nums) - 1\n",
    "        while i < j:\n",
    "            if nums[i] + nums[j] < target:\n",
    "                i += 1\n",
    "            elif nums[i] + num[j] > target:\n",
    "                j -= 1\n",
    "            else:\n",
    "                return [i, j]\n",
    "        else:\n",
    "            return None\n",
    "    else:\n",
    "        for i in range(len(nums)):\n",
    "            loc = dict(zip(nums[(i + 1): ], range(len(nums[(i + 1): ]))))\n",
    "            other = target - nums[i]\n",
    "            j = loc.get(other, None)\n",
    "            if j is not None:\n",
    "                return [i, i + 1 + j]\n",
    "        else:\n",
    "            return None\n",
    "    \n",
    "print(twoSum([2, 7, 11, 15], 9))"
   ]
  },
  {
   "cell_type": "code",
   "execution_count": null,
   "metadata": {},
   "outputs": [],
   "source": []
  }
 ],
 "metadata": {
  "kernelspec": {
   "display_name": "Python 3",
   "language": "python",
   "name": "python3"
  },
  "language_info": {
   "codemirror_mode": {
    "name": "ipython",
    "version": 3
   },
   "file_extension": ".py",
   "mimetype": "text/x-python",
   "name": "python",
   "nbconvert_exporter": "python",
   "pygments_lexer": "ipython3",
   "version": "3.7.1"
  }
 },
 "nbformat": 4,
 "nbformat_minor": 2
}
